{
  "nbformat": 4,
  "nbformat_minor": 0,
  "metadata": {
    "colab": {
      "provenance": [],
      "authorship_tag": "ABX9TyOn3Ad33eYJKRPG2Vm1eDgc",
      "include_colab_link": true
    },
    "kernelspec": {
      "name": "ir",
      "display_name": "R"
    },
    "language_info": {
      "name": "R"
    }
  },
  "cells": [
    {
      "cell_type": "markdown",
      "metadata": {
        "id": "view-in-github",
        "colab_type": "text"
      },
      "source": [
        "<a href=\"https://colab.research.google.com/github/siahay/Portfolio/blob/main/Biostatistic%20error.ipynb\" target=\"_parent\"><img src=\"https://colab.research.google.com/assets/colab-badge.svg\" alt=\"Open In Colab\"/></a>"
      ]
    },
    {
      "cell_type": "code",
      "execution_count": 8,
      "metadata": {
        "colab": {
          "base_uri": "https://localhost:8080/"
        },
        "id": "7WD0ZZ2ihOeb",
        "outputId": "e3a608f6-e540-4078-a766-7adb36702b79"
      },
      "outputs": [
        {
          "output_type": "stream",
          "name": "stderr",
          "text": [
            "Installing package into ‘/usr/local/lib/R/site-library’\n",
            "(as ‘lib’ is unspecified)\n",
            "\n"
          ]
        }
      ],
      "source": [
        "install.packages(\"interactions\")\n",
        "library(interactions)\n",
        "library(haven)\n",
        "library(tidyverse)\n",
        "library(dplyr)"
      ]
    },
    {
      "cell_type": "code",
      "source": [
        "data=read_dta(\"dhormone.dta\")"
      ],
      "metadata": {
        "id": "IaeaxmtlhQRV"
      },
      "execution_count": 9,
      "outputs": []
    },
    {
      "cell_type": "code",
      "source": [
        "model2interact <- lm(LDL1 ~ HT + age + BMI + physact + LDL + diabetes + HT*LDL, data=data)"
      ],
      "metadata": {
        "id": "_j5Mvgp0his0"
      },
      "execution_count": 10,
      "outputs": []
    },
    {
      "cell_type": "code",
      "source": [
        "interact_plot(model2interact, pred=LDL, modx=HT)"
      ],
      "metadata": {
        "colab": {
          "base_uri": "https://localhost:8080/"
        },
        "id": "ri9_rFeEhkcr",
        "outputId": "801fa080-a1df-423c-8679-2509ed409f70"
      },
      "execution_count": 11,
      "outputs": [
        {
          "output_type": "stream",
          "name": "stderr",
          "text": [
            "ERROR while rich displaying an object: Error in UseMethod(\"rescale\"): no applicable method for 'rescale' applied to an object of class \"c('haven_labelled', 'vctrs_vctr', 'double')\"\n",
            "\n",
            "Traceback:\n",
            "1. tryCatch(withCallingHandlers({\n",
            " .     if (!mime %in% names(repr::mime2repr)) \n",
            " .         stop(\"No repr_* for mimetype \", mime, \" in repr::mime2repr\")\n",
            " .     rpr <- repr::mime2repr[[mime]](obj)\n",
            " .     if (is.null(rpr)) \n",
            " .         return(NULL)\n",
            " .     prepare_content(is.raw(rpr), rpr)\n",
            " . }, error = error_handler), error = outer_handler)\n",
            "2. tryCatchList(expr, classes, parentenv, handlers)\n",
            "3. tryCatchOne(expr, names, parentenv, handlers[[1L]])\n",
            "4. doTryCatch(return(expr), name, parentenv, handler)\n",
            "5. withCallingHandlers({\n",
            " .     if (!mime %in% names(repr::mime2repr)) \n",
            " .         stop(\"No repr_* for mimetype \", mime, \" in repr::mime2repr\")\n",
            " .     rpr <- repr::mime2repr[[mime]](obj)\n",
            " .     if (is.null(rpr)) \n",
            " .         return(NULL)\n",
            " .     prepare_content(is.raw(rpr), rpr)\n",
            " . }, error = error_handler)\n",
            "6. repr::mime2repr[[mime]](obj)\n",
            "7. repr_text.default(obj)\n",
            "8. paste(capture.output(print(obj)), collapse = \"\\n\")\n",
            "9. capture.output(print(obj))\n",
            "10. withVisible(...elt(i))\n",
            "11. print(obj)\n",
            "12. print.ggplot(obj)\n",
            "13. ggplot_build(x)\n",
            "14. ggplot_build.ggplot(x)\n",
            "15. lapply(data, scales_map_df, scales = npscales)\n",
            "16. FUN(X[[i]], ...)\n",
            "17. unlist(lapply(scales$scales, function(scale) scale$map_df(df = df)), \n",
            "  .     recursive = FALSE)\n",
            "18. lapply(scales$scales, function(scale) scale$map_df(df = df))\n",
            "19. FUN(X[[i]], ...)\n",
            "20. scale$map_df(df = df)\n",
            "21. f(..., self = self)\n",
            "22. lapply(aesthetics, function(j) self$map(df[[j]]))\n",
            "23. FUN(X[[i]], ...)\n",
            "24. self$map(df[[j]])\n",
            "25. f(..., self = self)\n",
            "26. self$rescale(self$oob(x, range = limits), limits)\n",
            "27. f(..., self = self)\n",
            "28. self$rescaler(x, from = range)\n",
            "29. f(...)\n"
          ]
        }
      ]
    }
  ]
}
